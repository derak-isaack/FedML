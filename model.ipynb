{
 "cells": [
  {
   "cell_type": "code",
   "execution_count": 1,
   "id": "7d435259",
   "metadata": {},
   "outputs": [],
   "source": [
    "import tensorflow as tf "
   ]
  },
  {
   "cell_type": "code",
   "execution_count": 2,
   "id": "6a488ed3",
   "metadata": {},
   "outputs": [
    {
     "name": "stdout",
     "output_type": "stream",
     "text": [
      "Found 27558 files belonging to 2 classes.\n",
      "Using 22047 files for training.\n",
      "Found 27558 files belonging to 2 classes.\n",
      "Using 5511 files for validation.\n"
     ]
    }
   ],
   "source": [
    "# import tensorflow as tf\n",
    "\n",
    "IMG_SIZE = (224, 224)\n",
    "BATCH_SIZE = 32\n",
    "\n",
    "train_ds = tf.keras.preprocessing.image_dataset_from_directory(\n",
    "    \"cell_images\",              # Path to root directory\n",
    "    validation_split=0.2,\n",
    "    subset=\"training\",\n",
    "    seed=123,\n",
    "    image_size=IMG_SIZE,\n",
    "    batch_size=BATCH_SIZE\n",
    ")\n",
    "\n",
    "val_ds = tf.keras.preprocessing.image_dataset_from_directory(\n",
    "    \"cell_images\",\n",
    "    validation_split=0.2,\n",
    "    subset=\"validation\",\n",
    "    seed=123,\n",
    "    image_size=IMG_SIZE,\n",
    "    batch_size=BATCH_SIZE\n",
    ")\n"
   ]
  },
  {
   "cell_type": "code",
   "execution_count": null,
   "id": "08f77de1",
   "metadata": {},
   "outputs": [
    {
     "name": "stdout",
     "output_type": "stream",
     "text": [
      "Downloading data from https://storage.googleapis.com/tensorflow/keras-applications/mobilenet_v3/weights_mobilenet_v3_small_224_1.0_float_no_top_v2.h5\n",
      "\u001b[1m4334752/4334752\u001b[0m \u001b[32m━━━━━━━━━━━━━━━━━━━━\u001b[0m\u001b[37m\u001b[0m \u001b[1m7s\u001b[0m 2us/step\n"
     ]
    }
   ],
   "source": [
    "from tensorflow.keras.applications import MobileNetV3Small, MobileNetV3Large\n",
    "from tensorflow.keras import layers, models\n",
    "\n",
    "base_model = MobileNetV3Small(input_shape=(224, 224, 3),\n",
    "                              include_top=False,\n",
    "                              weights='imagenet')\n",
    "base_model.trainable = False  # Fine-tune later if needed\n",
    "\n",
    "model = models.Sequential([\n",
    "    base_model,\n",
    "    layers.GlobalAveragePooling2D(),\n",
    "    layers.Dense(128, activation='relu'),\n",
    "    layers.Dense(1, activation='sigmoid')  # Binary classification\n",
    "])\n",
    "\n",
    "model.compile(optimizer='adam',\n",
    "              loss='binary_crossentropy',\n",
    "              metrics=['accuracy'])\n"
   ]
  },
  {
   "cell_type": "code",
   "execution_count": 4,
   "id": "8d171f65",
   "metadata": {},
   "outputs": [
    {
     "name": "stdout",
     "output_type": "stream",
     "text": [
      "Epoch 1/10\n",
      "\u001b[1m689/689\u001b[0m \u001b[32m━━━━━━━━━━━━━━━━━━━━\u001b[0m\u001b[37m\u001b[0m \u001b[1m348s\u001b[0m 495ms/step - accuracy: 0.9353 - loss: 0.1830 - val_accuracy: 0.9541 - val_loss: 0.1264\n",
      "Epoch 2/10\n",
      "\u001b[1m689/689\u001b[0m \u001b[32m━━━━━━━━━━━━━━━━━━━━\u001b[0m\u001b[37m\u001b[0m \u001b[1m247s\u001b[0m 358ms/step - accuracy: 0.9578 - loss: 0.1313 - val_accuracy: 0.9545 - val_loss: 0.1304\n",
      "Epoch 3/10\n",
      "\u001b[1m689/689\u001b[0m \u001b[32m━━━━━━━━━━━━━━━━━━━━\u001b[0m\u001b[37m\u001b[0m \u001b[1m255s\u001b[0m 370ms/step - accuracy: 0.9576 - loss: 0.1236 - val_accuracy: 0.9545 - val_loss: 0.1332\n",
      "Epoch 4/10\n",
      "\u001b[1m689/689\u001b[0m \u001b[32m━━━━━━━━━━━━━━━━━━━━\u001b[0m\u001b[37m\u001b[0m \u001b[1m254s\u001b[0m 369ms/step - accuracy: 0.9588 - loss: 0.1169 - val_accuracy: 0.9559 - val_loss: 0.1218\n",
      "Epoch 5/10\n",
      "\u001b[1m689/689\u001b[0m \u001b[32m━━━━━━━━━━━━━━━━━━━━\u001b[0m\u001b[37m\u001b[0m \u001b[1m256s\u001b[0m 371ms/step - accuracy: 0.9603 - loss: 0.1130 - val_accuracy: 0.9594 - val_loss: 0.1154\n",
      "Epoch 6/10\n",
      "\u001b[1m689/689\u001b[0m \u001b[32m━━━━━━━━━━━━━━━━━━━━\u001b[0m\u001b[37m\u001b[0m \u001b[1m256s\u001b[0m 371ms/step - accuracy: 0.9620 - loss: 0.1083 - val_accuracy: 0.9590 - val_loss: 0.1134\n",
      "Epoch 7/10\n",
      "\u001b[1m689/689\u001b[0m \u001b[32m━━━━━━━━━━━━━━━━━━━━\u001b[0m\u001b[37m\u001b[0m \u001b[1m297s\u001b[0m 431ms/step - accuracy: 0.9628 - loss: 0.1042 - val_accuracy: 0.9614 - val_loss: 0.1113\n",
      "Epoch 8/10\n",
      "\u001b[1m689/689\u001b[0m \u001b[32m━━━━━━━━━━━━━━━━━━━━\u001b[0m\u001b[37m\u001b[0m \u001b[1m268s\u001b[0m 388ms/step - accuracy: 0.9643 - loss: 0.0999 - val_accuracy: 0.9621 - val_loss: 0.1135\n",
      "Epoch 9/10\n",
      "\u001b[1m689/689\u001b[0m \u001b[32m━━━━━━━━━━━━━━━━━━━━\u001b[0m\u001b[37m\u001b[0m \u001b[1m284s\u001b[0m 412ms/step - accuracy: 0.9631 - loss: 0.0982 - val_accuracy: 0.9586 - val_loss: 0.1204\n",
      "Epoch 10/10\n",
      "\u001b[1m689/689\u001b[0m \u001b[32m━━━━━━━━━━━━━━━━━━━━\u001b[0m\u001b[37m\u001b[0m \u001b[1m281s\u001b[0m 408ms/step - accuracy: 0.9665 - loss: 0.0953 - val_accuracy: 0.9597 - val_loss: 0.1162\n"
     ]
    }
   ],
   "source": [
    "history = model.fit(train_ds, validation_data=val_ds, epochs=10)\n"
   ]
  },
  {
   "cell_type": "code",
   "execution_count": 7,
   "id": "810d4ef3",
   "metadata": {},
   "outputs": [],
   "source": [
    "model.save('malaria_mobilenetv3.keras')"
   ]
  },
  {
   "cell_type": "code",
   "execution_count": 10,
   "id": "06c6c5d7",
   "metadata": {},
   "outputs": [
    {
     "name": "stdout",
     "output_type": "stream",
     "text": [
      "✅ Saved 210 tensors (1,013,105 total parameters)\n"
     ]
    }
   ],
   "source": [
    "import tensorflow as tf\n",
    "import numpy as np\n",
    "from safetensors.numpy import save_file\n",
    "\n",
    "# Load the Keras model\n",
    "model = tf.keras.models.load_model(\"malaria_mobilenetv3.keras\")\n",
    "\n",
    "# Get ALL weights (trainable + non-trainable)\n",
    "weight_dict = {}\n",
    "for layer in model.layers:\n",
    "    for i, weight in enumerate(layer.weights):\n",
    "        # Preserve original naming format\n",
    "        name = f\"{layer.name}_{i}\"\n",
    "        weight_dict[name] = weight.numpy()\n",
    "\n",
    "# Save with proper metadata\n",
    "metadata = {\n",
    "    \"framework\": \"keras\",\n",
    "    \"model_type\": \"MobileNetV3\",\n",
    "    \"task\": \"malaria_detection\"\n",
    "}\n",
    "save_file(weight_dict, \"malaria_mobilenetV3.safetensors\", metadata=metadata)\n",
    "\n",
    "# ✅ Corrected print statement\n",
    "total_params = sum(np.prod(v.shape) for v in weight_dict.values())\n",
    "print(f\"✅ Saved {len(weight_dict)} tensors ({total_params:,} total parameters)\")\n"
   ]
  },
  {
   "cell_type": "code",
   "execution_count": 11,
   "id": "9fb311ff",
   "metadata": {},
   "outputs": [],
   "source": [
    "import json \n",
    "\n",
    "config = {\n",
    "    \"model_type\": \"MobileNetV3Small\",\n",
    "    \"input_shape\": [1, 224, 224, 3],\n",
    "    \"num_classes\": 1,\n",
    "    \"activation\": \"sigmoid\",\n",
    "    \"pooling\": \"global_average\",\n",
    "    \"hidden_units\": [128],\n",
    "    \"framework\": \"keras\",\n",
    "    \"pretrained_base\": \"imagenet\",\n",
    "    \"trainable_base\": False,\n",
    "    \"classifier_head\": {\n",
    "        \"dense_1\": {\n",
    "            \"units\": 128,\n",
    "            \"activation\": \"relu\"\n",
    "        },\n",
    "        \"output\": {\n",
    "            \"units\": 1,\n",
    "            \"activation\": \"sigmoid\"\n",
    "        }\n",
    "    }\n",
    "}\n",
    "\n",
    "with open(\"config.json\", \"w\") as f:\n",
    "    json.dump(config, f, indent=2)\n"
   ]
  },
  {
   "cell_type": "code",
   "execution_count": null,
   "id": "dfdb9f4c",
   "metadata": {},
   "outputs": [],
   "source": []
  }
 ],
 "metadata": {
  "kernelspec": {
   "display_name": "malaria-310",
   "language": "python",
   "name": "python3"
  },
  "language_info": {
   "codemirror_mode": {
    "name": "ipython",
    "version": 3
   },
   "file_extension": ".py",
   "mimetype": "text/x-python",
   "name": "python",
   "nbconvert_exporter": "python",
   "pygments_lexer": "ipython3",
   "version": "3.10.11"
  }
 },
 "nbformat": 4,
 "nbformat_minor": 5
}
